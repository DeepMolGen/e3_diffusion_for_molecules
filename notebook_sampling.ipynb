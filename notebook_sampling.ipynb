{
 "cells": [
  {
   "attachments": {},
   "cell_type": "markdown",
   "metadata": {},
   "source": [
    "# Exploration of **Sampling** EDM: E(3) Equivariant Diffusion Model for Molecule Generation in 3D.\n",
    "[Github repo](https://github.com/ehoogeboom/e3_diffusion_for_molecules)"
   ]
  },
  {
   "attachments": {},
   "cell_type": "markdown",
   "metadata": {},
   "source": [
    "## 1. Main file `eval_sample.py`\n",
    "The evaluation and **visualization** is triggered with a command like:\n",
    "```bash\n",
    "python eval_sample.py --model_path outputs/edm_qm9 --n_samples 10_000\n",
    "```\n",
    "The evaluation and **analysis** is triggered with a command like:\n",
    "```bash\n",
    "python eval_analyze.py --model_path outputs/edm_qm9 --n_samples 10_000\n",
    "```"
   ]
  },
  {
   "attachments": {},
   "cell_type": "markdown",
   "metadata": {},
   "source": [
    "### 1. Arguments\n",
    "_Note:_ I modified the defaults to match the ones given for the example of edm_qm9"
   ]
  },
  {
   "cell_type": "code",
   "execution_count": 1,
   "metadata": {},
   "outputs": [],
   "source": [
    "import argparse\n",
    "import torch\n",
    "parser = argparse.ArgumentParser()\n",
    "parser.add_argument('--exp_name', type=str, default='edm_qm9')\n",
    "parser.add_argument('--model', type=str, default='egnn_dynamics',\n",
    "                    help='our_dynamics | schnet | simple_dynamics | '\n",
    "                         'kernel_dynamics | egnn_dynamics |gnn_dynamics')\n",
    "parser.add_argument('--probabilistic_model', type=str, default='diffusion',\n",
    "                    help='diffusion')\n",
    "# Training complexity is O(1) (unaffected), but sampling complexity is O(steps).\n",
    "parser.add_argument('--diffusion_steps', type=int, default=1000)\n",
    "parser.add_argument('--diffusion_noise_schedule', type=str, default='polynomial_2',\n",
    "                    help='learned, cosine')\n",
    "parser.add_argument('--diffusion_noise_precision', type=float, default=1e-5,\n",
    "                    )\n",
    "parser.add_argument('--diffusion_loss_type', type=str, default='l2',\n",
    "                    help='vlb, l2')\n",
    "\n",
    "parser.add_argument('--n_epochs', type=int, default=200)\n",
    "parser.add_argument('--batch_size', type=int, default=64)\n",
    "parser.add_argument('--lr', type=float, default=1e-4)\n",
    "parser.add_argument('--brute_force', type=eval, default=False,\n",
    "                    help='True | False')\n",
    "parser.add_argument('--actnorm', type=eval, default=True,\n",
    "                    help='True | False')\n",
    "parser.add_argument('--break_train_epoch', type=eval, default=False,\n",
    "                    help='True | False')\n",
    "parser.add_argument('--dp', type=eval, default=True,\n",
    "                    help='True | False')\n",
    "parser.add_argument('--condition_time', type=eval, default=True,\n",
    "                    help='True | False')\n",
    "parser.add_argument('--clip_grad', type=eval, default=True,\n",
    "                    help='True | False')\n",
    "parser.add_argument('--trace', type=str, default='hutch',\n",
    "                    help='hutch | exact')\n",
    "# EGNN args -->\n",
    "parser.add_argument('--n_layers', type=int, default=9,\n",
    "                    help='number of layers')\n",
    "parser.add_argument('--inv_sublayers', type=int, default=1,\n",
    "                    help='number of layers')\n",
    "parser.add_argument('--nf', type=int, default=256,\n",
    "                    help='number of layers')\n",
    "parser.add_argument('--tanh', type=eval, default=True,\n",
    "                    help='use tanh in the coord_mlp')\n",
    "parser.add_argument('--attention', type=eval, default=True,\n",
    "                    help='use attention in the EGNN')\n",
    "parser.add_argument('--norm_constant', type=float, default=1,\n",
    "                    help='diff/(|diff| + norm_constant)')\n",
    "parser.add_argument('--sin_embedding', type=eval, default=False,\n",
    "                    help='whether using or not the sin embedding')\n",
    "# <-- EGNN args\n",
    "parser.add_argument('--ode_regularization', type=float, default=1e-3)\n",
    "parser.add_argument('--dataset', type=str, default='qm9',\n",
    "                    help='qm9 | qm9_second_half (train only on the last 50K samples of the training dataset)')\n",
    "parser.add_argument('--datadir', type=str, default='qm9/temp',\n",
    "                    help='qm9 directory')\n",
    "parser.add_argument('--filter_n_atoms', type=int, default=None,\n",
    "                    help='When set to an integer value, QM9 will only contain molecules of that amount of atoms')\n",
    "parser.add_argument('--dequantization', type=str, default='argmax_variational',\n",
    "                    help='uniform | variational | argmax_variational | deterministic')\n",
    "parser.add_argument('--n_report_steps', type=int, default=1)\n",
    "parser.add_argument('--wandb_usr', type=str)\n",
    "parser.add_argument('--no_wandb', action='store_true', help='Disable wandb')\n",
    "parser.add_argument('--online', type=bool, default=True, help='True = wandb online -- False = wandb offline')\n",
    "parser.add_argument('--no-cuda', action='store_true', default=False,\n",
    "                    help='enables CUDA training')\n",
    "parser.add_argument('--save_model', type=eval, default=True,\n",
    "                    help='save model')\n",
    "parser.add_argument('--generate_epochs', type=int, default=1,\n",
    "                    help='save model')\n",
    "parser.add_argument('--num_workers', type=int, default=0, help='Number of worker for the dataloader')\n",
    "parser.add_argument('--test_epochs', type=int, default=20)\n",
    "parser.add_argument('--data_augmentation', type=eval, default=False, help='use attention in the EGNN')\n",
    "parser.add_argument(\"--conditioning\", nargs='+', default=[],\n",
    "                    help='arguments : homo | lumo | alpha | gap | mu | Cv' )\n",
    "parser.add_argument('--resume', type=str, default=None,\n",
    "                    help='')\n",
    "parser.add_argument('--start_epoch', type=int, default=0,\n",
    "                    help='')\n",
    "parser.add_argument('--ema_decay', type=float, default=0.999,\n",
    "                    help='Amount of EMA decay, 0 means off. A reasonable value is 0.999.')\n",
    "parser.add_argument('--augment_noise', type=float, default=0)\n",
    "parser.add_argument('--n_stability_samples', type=int, default=1000,\n",
    "                    help='Number of samples to compute the stability')\n",
    "parser.add_argument('--normalize_factors', type=eval, default=[1, 4, 10],\n",
    "                    help='normalize factors for [x, categorical, integer]')\n",
    "parser.add_argument('--remove_h', action='store_true')\n",
    "parser.add_argument('--include_charges', type=eval, default=True,\n",
    "                    help='include atom charge or not')\n",
    "parser.add_argument('--visualize_every_batch', type=int, default=1e8,\n",
    "                    help=\"Can be used to visualize multiple times per epoch\")\n",
    "parser.add_argument('--normalization_factor', type=float, default=1,\n",
    "                    help=\"Normalize the sum aggregation of EGNN\")\n",
    "parser.add_argument('--aggregation_method', type=str, default='sum',\n",
    "                    help='\"sum\" or \"mean\"')\n",
    "# Specific of eval_sample\n",
    "parser.add_argument('--model_path', type=str, default=\"outputs/edm_qm9\", help='Specify model path')\n",
    "parser.add_argument('--n_tries', type=int, default=10, help='N tries to find stable molecule for gif animation')\n",
    "parser.add_argument('--n_nodes', type=int, default=19, help='number of atoms in molecule for gif animation')\n",
    "args = parser.parse_args(args=[])\n",
    "\n",
    "args.context_node_nf = 0\n",
    "device = torch.device(\"cpu\")"
   ]
  },
  {
   "attachments": {},
   "cell_type": "markdown",
   "metadata": {},
   "source": [
    "### 2. Dataset"
   ]
  },
  {
   "cell_type": "code",
   "execution_count": 2,
   "metadata": {},
   "outputs": [
    {
     "name": "stderr",
     "output_type": "stream",
     "text": [
      "/Users/luisaorozco/Documents/Projects/DeepMolGen/e3_diffusion_for_molecules/qm9/data/prepare/process.py:126: SyntaxWarning: \"is\" with a literal. Did you mean \"==\"?\n",
      "  if line[0] is '#':\n",
      "/Users/luisaorozco/Documents/Projects/DeepMolGen/e3_diffusion_for_molecules/qm9/data/prepare/process.py:128: SyntaxWarning: \"is\" with a literal. Did you mean \"==\"?\n",
      "  if line_counter is 0:\n",
      "/Users/luisaorozco/Documents/Projects/DeepMolGen/e3_diffusion_for_molecules/qm9/data/prepare/process.py:130: SyntaxWarning: \"is\" with a literal. Did you mean \"==\"?\n",
      "  elif line_counter is 1:\n",
      "/Users/luisaorozco/Documents/Projects/DeepMolGen/e3_diffusion_for_molecules/qm9/data/prepare/process.py:143: SyntaxWarning: \"is\" with a literal. Did you mean \"==\"?\n",
      "  if len(split) is 4:\n"
     ]
    }
   ],
   "source": [
    "from configs.datasets_config import get_dataset_info\n",
    "from qm9 import dataset\n",
    "\n",
    "dataset_info = get_dataset_info(args.dataset, args.remove_h)"
   ]
  },
  {
   "cell_type": "code",
   "execution_count": 3,
   "metadata": {},
   "outputs": [
    {
     "name": "stdout",
     "output_type": "stream",
     "text": [
      "dict_keys([0, 1, 6, 7, 8, 9])\n",
      "dict_keys([0, 1, 6, 7, 8, 9])\n",
      "dict_keys([0, 1, 6, 7, 8, 9])\n"
     ]
    }
   ],
   "source": [
    "# Retrieve QM9 dataloaders\n",
    "dataloaders, charge_scale = dataset.retrieve_dataloaders(args)"
   ]
  },
  {
   "attachments": {},
   "cell_type": "markdown",
   "metadata": {},
   "source": [
    "### 3. EGNN model"
   ]
  },
  {
   "cell_type": "code",
   "execution_count": 4,
   "metadata": {},
   "outputs": [],
   "source": [
    "from qm9.models import get_model\n",
    "import torch"
   ]
  },
  {
   "cell_type": "code",
   "execution_count": 5,
   "metadata": {},
   "outputs": [
    {
     "name": "stdout",
     "output_type": "stream",
     "text": [
      "Entropy of n_nodes: H[N] -2.475700616836548\n",
      "alphas2 [9.99990000e-01 9.99988000e-01 9.99982000e-01 ... 2.59676966e-05\n",
      " 1.39959211e-05 1.00039959e-05]\n",
      "gamma [-11.51291546 -11.33059532 -10.92513058 ...  10.55863126  11.17673063\n",
      "  11.51251595]\n"
     ]
    }
   ],
   "source": [
    "flow, nodes_dist, prop_dist = get_model(args, device, dataset_info, dataloaders['train'])"
   ]
  },
  {
   "cell_type": "code",
   "execution_count": 6,
   "metadata": {},
   "outputs": [
    {
     "data": {
      "text/plain": [
       "EnVariationalDiffusion(\n",
       "  (gamma): PredefinedNoiseSchedule()\n",
       "  (dynamics): EGNN_dynamics_QM9(\n",
       "    (egnn): EGNN(\n",
       "      (embedding): Linear(in_features=7, out_features=256, bias=True)\n",
       "      (embedding_out): Linear(in_features=256, out_features=7, bias=True)\n",
       "      (e_block_0): EquivariantBlock(\n",
       "        (gcl_0): GCL(\n",
       "          (edge_mlp): Sequential(\n",
       "            (0): Linear(in_features=514, out_features=256, bias=True)\n",
       "            (1): SiLU()\n",
       "            (2): Linear(in_features=256, out_features=256, bias=True)\n",
       "            (3): SiLU()\n",
       "          )\n",
       "          (node_mlp): Sequential(\n",
       "            (0): Linear(in_features=512, out_features=256, bias=True)\n",
       "            (1): SiLU()\n",
       "            (2): Linear(in_features=256, out_features=256, bias=True)\n",
       "          )\n",
       "          (att_mlp): Sequential(\n",
       "            (0): Linear(in_features=256, out_features=1, bias=True)\n",
       "            (1): Sigmoid()\n",
       "          )\n",
       "        )\n",
       "        (gcl_equiv): EquivariantUpdate(\n",
       "          (coord_mlp): Sequential(\n",
       "            (0): Linear(in_features=514, out_features=256, bias=True)\n",
       "            (1): SiLU()\n",
       "            (2): Linear(in_features=256, out_features=256, bias=True)\n",
       "            (3): SiLU()\n",
       "            (4): Linear(in_features=256, out_features=1, bias=False)\n",
       "          )\n",
       "        )\n",
       "      )\n",
       "      (e_block_1): EquivariantBlock(\n",
       "        (gcl_0): GCL(\n",
       "          (edge_mlp): Sequential(\n",
       "            (0): Linear(in_features=514, out_features=256, bias=True)\n",
       "            (1): SiLU()\n",
       "            (2): Linear(in_features=256, out_features=256, bias=True)\n",
       "            (3): SiLU()\n",
       "          )\n",
       "          (node_mlp): Sequential(\n",
       "            (0): Linear(in_features=512, out_features=256, bias=True)\n",
       "            (1): SiLU()\n",
       "            (2): Linear(in_features=256, out_features=256, bias=True)\n",
       "          )\n",
       "          (att_mlp): Sequential(\n",
       "            (0): Linear(in_features=256, out_features=1, bias=True)\n",
       "            (1): Sigmoid()\n",
       "          )\n",
       "        )\n",
       "        (gcl_equiv): EquivariantUpdate(\n",
       "          (coord_mlp): Sequential(\n",
       "            (0): Linear(in_features=514, out_features=256, bias=True)\n",
       "            (1): SiLU()\n",
       "            (2): Linear(in_features=256, out_features=256, bias=True)\n",
       "            (3): SiLU()\n",
       "            (4): Linear(in_features=256, out_features=1, bias=False)\n",
       "          )\n",
       "        )\n",
       "      )\n",
       "      (e_block_2): EquivariantBlock(\n",
       "        (gcl_0): GCL(\n",
       "          (edge_mlp): Sequential(\n",
       "            (0): Linear(in_features=514, out_features=256, bias=True)\n",
       "            (1): SiLU()\n",
       "            (2): Linear(in_features=256, out_features=256, bias=True)\n",
       "            (3): SiLU()\n",
       "          )\n",
       "          (node_mlp): Sequential(\n",
       "            (0): Linear(in_features=512, out_features=256, bias=True)\n",
       "            (1): SiLU()\n",
       "            (2): Linear(in_features=256, out_features=256, bias=True)\n",
       "          )\n",
       "          (att_mlp): Sequential(\n",
       "            (0): Linear(in_features=256, out_features=1, bias=True)\n",
       "            (1): Sigmoid()\n",
       "          )\n",
       "        )\n",
       "        (gcl_equiv): EquivariantUpdate(\n",
       "          (coord_mlp): Sequential(\n",
       "            (0): Linear(in_features=514, out_features=256, bias=True)\n",
       "            (1): SiLU()\n",
       "            (2): Linear(in_features=256, out_features=256, bias=True)\n",
       "            (3): SiLU()\n",
       "            (4): Linear(in_features=256, out_features=1, bias=False)\n",
       "          )\n",
       "        )\n",
       "      )\n",
       "      (e_block_3): EquivariantBlock(\n",
       "        (gcl_0): GCL(\n",
       "          (edge_mlp): Sequential(\n",
       "            (0): Linear(in_features=514, out_features=256, bias=True)\n",
       "            (1): SiLU()\n",
       "            (2): Linear(in_features=256, out_features=256, bias=True)\n",
       "            (3): SiLU()\n",
       "          )\n",
       "          (node_mlp): Sequential(\n",
       "            (0): Linear(in_features=512, out_features=256, bias=True)\n",
       "            (1): SiLU()\n",
       "            (2): Linear(in_features=256, out_features=256, bias=True)\n",
       "          )\n",
       "          (att_mlp): Sequential(\n",
       "            (0): Linear(in_features=256, out_features=1, bias=True)\n",
       "            (1): Sigmoid()\n",
       "          )\n",
       "        )\n",
       "        (gcl_equiv): EquivariantUpdate(\n",
       "          (coord_mlp): Sequential(\n",
       "            (0): Linear(in_features=514, out_features=256, bias=True)\n",
       "            (1): SiLU()\n",
       "            (2): Linear(in_features=256, out_features=256, bias=True)\n",
       "            (3): SiLU()\n",
       "            (4): Linear(in_features=256, out_features=1, bias=False)\n",
       "          )\n",
       "        )\n",
       "      )\n",
       "      (e_block_4): EquivariantBlock(\n",
       "        (gcl_0): GCL(\n",
       "          (edge_mlp): Sequential(\n",
       "            (0): Linear(in_features=514, out_features=256, bias=True)\n",
       "            (1): SiLU()\n",
       "            (2): Linear(in_features=256, out_features=256, bias=True)\n",
       "            (3): SiLU()\n",
       "          )\n",
       "          (node_mlp): Sequential(\n",
       "            (0): Linear(in_features=512, out_features=256, bias=True)\n",
       "            (1): SiLU()\n",
       "            (2): Linear(in_features=256, out_features=256, bias=True)\n",
       "          )\n",
       "          (att_mlp): Sequential(\n",
       "            (0): Linear(in_features=256, out_features=1, bias=True)\n",
       "            (1): Sigmoid()\n",
       "          )\n",
       "        )\n",
       "        (gcl_equiv): EquivariantUpdate(\n",
       "          (coord_mlp): Sequential(\n",
       "            (0): Linear(in_features=514, out_features=256, bias=True)\n",
       "            (1): SiLU()\n",
       "            (2): Linear(in_features=256, out_features=256, bias=True)\n",
       "            (3): SiLU()\n",
       "            (4): Linear(in_features=256, out_features=1, bias=False)\n",
       "          )\n",
       "        )\n",
       "      )\n",
       "      (e_block_5): EquivariantBlock(\n",
       "        (gcl_0): GCL(\n",
       "          (edge_mlp): Sequential(\n",
       "            (0): Linear(in_features=514, out_features=256, bias=True)\n",
       "            (1): SiLU()\n",
       "            (2): Linear(in_features=256, out_features=256, bias=True)\n",
       "            (3): SiLU()\n",
       "          )\n",
       "          (node_mlp): Sequential(\n",
       "            (0): Linear(in_features=512, out_features=256, bias=True)\n",
       "            (1): SiLU()\n",
       "            (2): Linear(in_features=256, out_features=256, bias=True)\n",
       "          )\n",
       "          (att_mlp): Sequential(\n",
       "            (0): Linear(in_features=256, out_features=1, bias=True)\n",
       "            (1): Sigmoid()\n",
       "          )\n",
       "        )\n",
       "        (gcl_equiv): EquivariantUpdate(\n",
       "          (coord_mlp): Sequential(\n",
       "            (0): Linear(in_features=514, out_features=256, bias=True)\n",
       "            (1): SiLU()\n",
       "            (2): Linear(in_features=256, out_features=256, bias=True)\n",
       "            (3): SiLU()\n",
       "            (4): Linear(in_features=256, out_features=1, bias=False)\n",
       "          )\n",
       "        )\n",
       "      )\n",
       "      (e_block_6): EquivariantBlock(\n",
       "        (gcl_0): GCL(\n",
       "          (edge_mlp): Sequential(\n",
       "            (0): Linear(in_features=514, out_features=256, bias=True)\n",
       "            (1): SiLU()\n",
       "            (2): Linear(in_features=256, out_features=256, bias=True)\n",
       "            (3): SiLU()\n",
       "          )\n",
       "          (node_mlp): Sequential(\n",
       "            (0): Linear(in_features=512, out_features=256, bias=True)\n",
       "            (1): SiLU()\n",
       "            (2): Linear(in_features=256, out_features=256, bias=True)\n",
       "          )\n",
       "          (att_mlp): Sequential(\n",
       "            (0): Linear(in_features=256, out_features=1, bias=True)\n",
       "            (1): Sigmoid()\n",
       "          )\n",
       "        )\n",
       "        (gcl_equiv): EquivariantUpdate(\n",
       "          (coord_mlp): Sequential(\n",
       "            (0): Linear(in_features=514, out_features=256, bias=True)\n",
       "            (1): SiLU()\n",
       "            (2): Linear(in_features=256, out_features=256, bias=True)\n",
       "            (3): SiLU()\n",
       "            (4): Linear(in_features=256, out_features=1, bias=False)\n",
       "          )\n",
       "        )\n",
       "      )\n",
       "      (e_block_7): EquivariantBlock(\n",
       "        (gcl_0): GCL(\n",
       "          (edge_mlp): Sequential(\n",
       "            (0): Linear(in_features=514, out_features=256, bias=True)\n",
       "            (1): SiLU()\n",
       "            (2): Linear(in_features=256, out_features=256, bias=True)\n",
       "            (3): SiLU()\n",
       "          )\n",
       "          (node_mlp): Sequential(\n",
       "            (0): Linear(in_features=512, out_features=256, bias=True)\n",
       "            (1): SiLU()\n",
       "            (2): Linear(in_features=256, out_features=256, bias=True)\n",
       "          )\n",
       "          (att_mlp): Sequential(\n",
       "            (0): Linear(in_features=256, out_features=1, bias=True)\n",
       "            (1): Sigmoid()\n",
       "          )\n",
       "        )\n",
       "        (gcl_equiv): EquivariantUpdate(\n",
       "          (coord_mlp): Sequential(\n",
       "            (0): Linear(in_features=514, out_features=256, bias=True)\n",
       "            (1): SiLU()\n",
       "            (2): Linear(in_features=256, out_features=256, bias=True)\n",
       "            (3): SiLU()\n",
       "            (4): Linear(in_features=256, out_features=1, bias=False)\n",
       "          )\n",
       "        )\n",
       "      )\n",
       "      (e_block_8): EquivariantBlock(\n",
       "        (gcl_0): GCL(\n",
       "          (edge_mlp): Sequential(\n",
       "            (0): Linear(in_features=514, out_features=256, bias=True)\n",
       "            (1): SiLU()\n",
       "            (2): Linear(in_features=256, out_features=256, bias=True)\n",
       "            (3): SiLU()\n",
       "          )\n",
       "          (node_mlp): Sequential(\n",
       "            (0): Linear(in_features=512, out_features=256, bias=True)\n",
       "            (1): SiLU()\n",
       "            (2): Linear(in_features=256, out_features=256, bias=True)\n",
       "          )\n",
       "          (att_mlp): Sequential(\n",
       "            (0): Linear(in_features=256, out_features=1, bias=True)\n",
       "            (1): Sigmoid()\n",
       "          )\n",
       "        )\n",
       "        (gcl_equiv): EquivariantUpdate(\n",
       "          (coord_mlp): Sequential(\n",
       "            (0): Linear(in_features=514, out_features=256, bias=True)\n",
       "            (1): SiLU()\n",
       "            (2): Linear(in_features=256, out_features=256, bias=True)\n",
       "            (3): SiLU()\n",
       "            (4): Linear(in_features=256, out_features=1, bias=False)\n",
       "          )\n",
       "        )\n",
       "      )\n",
       "    )\n",
       "  )\n",
       ")"
      ]
     },
     "execution_count": 6,
     "metadata": {},
     "output_type": "execute_result"
    }
   ],
   "source": [
    "flow"
   ]
  },
  {
   "attachments": {},
   "cell_type": "markdown",
   "metadata": {},
   "source": [
    "### 4. State_dict\n",
    "In the repo there are some pre-trained models localed in `outputs`.\n",
    "Here we are retrieving .npy files containing information about the trained model: weights and biases for instance. "
   ]
  },
  {
   "cell_type": "code",
   "execution_count": 10,
   "metadata": {},
   "outputs": [
    {
     "name": "stdout",
     "output_type": "stream",
     "text": [
      "odict_keys(['buffer', 'gamma.gamma', 'dynamics.egnn.embedding.weight', 'dynamics.egnn.embedding.bias', 'dynamics.egnn.embedding_out.weight', 'dynamics.egnn.embedding_out.bias', 'dynamics.egnn.e_block_0.gcl_0.edge_mlp.0.weight', 'dynamics.egnn.e_block_0.gcl_0.edge_mlp.0.bias', 'dynamics.egnn.e_block_0.gcl_0.edge_mlp.2.weight', 'dynamics.egnn.e_block_0.gcl_0.edge_mlp.2.bias', 'dynamics.egnn.e_block_0.gcl_0.node_mlp.0.weight', 'dynamics.egnn.e_block_0.gcl_0.node_mlp.0.bias', 'dynamics.egnn.e_block_0.gcl_0.node_mlp.2.weight', 'dynamics.egnn.e_block_0.gcl_0.node_mlp.2.bias', 'dynamics.egnn.e_block_0.gcl_0.att_mlp.0.weight', 'dynamics.egnn.e_block_0.gcl_0.att_mlp.0.bias', 'dynamics.egnn.e_block_0.gcl_equiv.coord_mlp.0.weight', 'dynamics.egnn.e_block_0.gcl_equiv.coord_mlp.0.bias', 'dynamics.egnn.e_block_0.gcl_equiv.coord_mlp.2.weight', 'dynamics.egnn.e_block_0.gcl_equiv.coord_mlp.2.bias', 'dynamics.egnn.e_block_0.gcl_equiv.coord_mlp.4.weight', 'dynamics.egnn.e_block_1.gcl_0.edge_mlp.0.weight', 'dynamics.egnn.e_block_1.gcl_0.edge_mlp.0.bias', 'dynamics.egnn.e_block_1.gcl_0.edge_mlp.2.weight', 'dynamics.egnn.e_block_1.gcl_0.edge_mlp.2.bias', 'dynamics.egnn.e_block_1.gcl_0.node_mlp.0.weight', 'dynamics.egnn.e_block_1.gcl_0.node_mlp.0.bias', 'dynamics.egnn.e_block_1.gcl_0.node_mlp.2.weight', 'dynamics.egnn.e_block_1.gcl_0.node_mlp.2.bias', 'dynamics.egnn.e_block_1.gcl_0.att_mlp.0.weight', 'dynamics.egnn.e_block_1.gcl_0.att_mlp.0.bias', 'dynamics.egnn.e_block_1.gcl_equiv.coord_mlp.0.weight', 'dynamics.egnn.e_block_1.gcl_equiv.coord_mlp.0.bias', 'dynamics.egnn.e_block_1.gcl_equiv.coord_mlp.2.weight', 'dynamics.egnn.e_block_1.gcl_equiv.coord_mlp.2.bias', 'dynamics.egnn.e_block_1.gcl_equiv.coord_mlp.4.weight', 'dynamics.egnn.e_block_2.gcl_0.edge_mlp.0.weight', 'dynamics.egnn.e_block_2.gcl_0.edge_mlp.0.bias', 'dynamics.egnn.e_block_2.gcl_0.edge_mlp.2.weight', 'dynamics.egnn.e_block_2.gcl_0.edge_mlp.2.bias', 'dynamics.egnn.e_block_2.gcl_0.node_mlp.0.weight', 'dynamics.egnn.e_block_2.gcl_0.node_mlp.0.bias', 'dynamics.egnn.e_block_2.gcl_0.node_mlp.2.weight', 'dynamics.egnn.e_block_2.gcl_0.node_mlp.2.bias', 'dynamics.egnn.e_block_2.gcl_0.att_mlp.0.weight', 'dynamics.egnn.e_block_2.gcl_0.att_mlp.0.bias', 'dynamics.egnn.e_block_2.gcl_equiv.coord_mlp.0.weight', 'dynamics.egnn.e_block_2.gcl_equiv.coord_mlp.0.bias', 'dynamics.egnn.e_block_2.gcl_equiv.coord_mlp.2.weight', 'dynamics.egnn.e_block_2.gcl_equiv.coord_mlp.2.bias', 'dynamics.egnn.e_block_2.gcl_equiv.coord_mlp.4.weight', 'dynamics.egnn.e_block_3.gcl_0.edge_mlp.0.weight', 'dynamics.egnn.e_block_3.gcl_0.edge_mlp.0.bias', 'dynamics.egnn.e_block_3.gcl_0.edge_mlp.2.weight', 'dynamics.egnn.e_block_3.gcl_0.edge_mlp.2.bias', 'dynamics.egnn.e_block_3.gcl_0.node_mlp.0.weight', 'dynamics.egnn.e_block_3.gcl_0.node_mlp.0.bias', 'dynamics.egnn.e_block_3.gcl_0.node_mlp.2.weight', 'dynamics.egnn.e_block_3.gcl_0.node_mlp.2.bias', 'dynamics.egnn.e_block_3.gcl_0.att_mlp.0.weight', 'dynamics.egnn.e_block_3.gcl_0.att_mlp.0.bias', 'dynamics.egnn.e_block_3.gcl_equiv.coord_mlp.0.weight', 'dynamics.egnn.e_block_3.gcl_equiv.coord_mlp.0.bias', 'dynamics.egnn.e_block_3.gcl_equiv.coord_mlp.2.weight', 'dynamics.egnn.e_block_3.gcl_equiv.coord_mlp.2.bias', 'dynamics.egnn.e_block_3.gcl_equiv.coord_mlp.4.weight', 'dynamics.egnn.e_block_4.gcl_0.edge_mlp.0.weight', 'dynamics.egnn.e_block_4.gcl_0.edge_mlp.0.bias', 'dynamics.egnn.e_block_4.gcl_0.edge_mlp.2.weight', 'dynamics.egnn.e_block_4.gcl_0.edge_mlp.2.bias', 'dynamics.egnn.e_block_4.gcl_0.node_mlp.0.weight', 'dynamics.egnn.e_block_4.gcl_0.node_mlp.0.bias', 'dynamics.egnn.e_block_4.gcl_0.node_mlp.2.weight', 'dynamics.egnn.e_block_4.gcl_0.node_mlp.2.bias', 'dynamics.egnn.e_block_4.gcl_0.att_mlp.0.weight', 'dynamics.egnn.e_block_4.gcl_0.att_mlp.0.bias', 'dynamics.egnn.e_block_4.gcl_equiv.coord_mlp.0.weight', 'dynamics.egnn.e_block_4.gcl_equiv.coord_mlp.0.bias', 'dynamics.egnn.e_block_4.gcl_equiv.coord_mlp.2.weight', 'dynamics.egnn.e_block_4.gcl_equiv.coord_mlp.2.bias', 'dynamics.egnn.e_block_4.gcl_equiv.coord_mlp.4.weight', 'dynamics.egnn.e_block_5.gcl_0.edge_mlp.0.weight', 'dynamics.egnn.e_block_5.gcl_0.edge_mlp.0.bias', 'dynamics.egnn.e_block_5.gcl_0.edge_mlp.2.weight', 'dynamics.egnn.e_block_5.gcl_0.edge_mlp.2.bias', 'dynamics.egnn.e_block_5.gcl_0.node_mlp.0.weight', 'dynamics.egnn.e_block_5.gcl_0.node_mlp.0.bias', 'dynamics.egnn.e_block_5.gcl_0.node_mlp.2.weight', 'dynamics.egnn.e_block_5.gcl_0.node_mlp.2.bias', 'dynamics.egnn.e_block_5.gcl_0.att_mlp.0.weight', 'dynamics.egnn.e_block_5.gcl_0.att_mlp.0.bias', 'dynamics.egnn.e_block_5.gcl_equiv.coord_mlp.0.weight', 'dynamics.egnn.e_block_5.gcl_equiv.coord_mlp.0.bias', 'dynamics.egnn.e_block_5.gcl_equiv.coord_mlp.2.weight', 'dynamics.egnn.e_block_5.gcl_equiv.coord_mlp.2.bias', 'dynamics.egnn.e_block_5.gcl_equiv.coord_mlp.4.weight', 'dynamics.egnn.e_block_6.gcl_0.edge_mlp.0.weight', 'dynamics.egnn.e_block_6.gcl_0.edge_mlp.0.bias', 'dynamics.egnn.e_block_6.gcl_0.edge_mlp.2.weight', 'dynamics.egnn.e_block_6.gcl_0.edge_mlp.2.bias', 'dynamics.egnn.e_block_6.gcl_0.node_mlp.0.weight', 'dynamics.egnn.e_block_6.gcl_0.node_mlp.0.bias', 'dynamics.egnn.e_block_6.gcl_0.node_mlp.2.weight', 'dynamics.egnn.e_block_6.gcl_0.node_mlp.2.bias', 'dynamics.egnn.e_block_6.gcl_0.att_mlp.0.weight', 'dynamics.egnn.e_block_6.gcl_0.att_mlp.0.bias', 'dynamics.egnn.e_block_6.gcl_equiv.coord_mlp.0.weight', 'dynamics.egnn.e_block_6.gcl_equiv.coord_mlp.0.bias', 'dynamics.egnn.e_block_6.gcl_equiv.coord_mlp.2.weight', 'dynamics.egnn.e_block_6.gcl_equiv.coord_mlp.2.bias', 'dynamics.egnn.e_block_6.gcl_equiv.coord_mlp.4.weight', 'dynamics.egnn.e_block_7.gcl_0.edge_mlp.0.weight', 'dynamics.egnn.e_block_7.gcl_0.edge_mlp.0.bias', 'dynamics.egnn.e_block_7.gcl_0.edge_mlp.2.weight', 'dynamics.egnn.e_block_7.gcl_0.edge_mlp.2.bias', 'dynamics.egnn.e_block_7.gcl_0.node_mlp.0.weight', 'dynamics.egnn.e_block_7.gcl_0.node_mlp.0.bias', 'dynamics.egnn.e_block_7.gcl_0.node_mlp.2.weight', 'dynamics.egnn.e_block_7.gcl_0.node_mlp.2.bias', 'dynamics.egnn.e_block_7.gcl_0.att_mlp.0.weight', 'dynamics.egnn.e_block_7.gcl_0.att_mlp.0.bias', 'dynamics.egnn.e_block_7.gcl_equiv.coord_mlp.0.weight', 'dynamics.egnn.e_block_7.gcl_equiv.coord_mlp.0.bias', 'dynamics.egnn.e_block_7.gcl_equiv.coord_mlp.2.weight', 'dynamics.egnn.e_block_7.gcl_equiv.coord_mlp.2.bias', 'dynamics.egnn.e_block_7.gcl_equiv.coord_mlp.4.weight', 'dynamics.egnn.e_block_8.gcl_0.edge_mlp.0.weight', 'dynamics.egnn.e_block_8.gcl_0.edge_mlp.0.bias', 'dynamics.egnn.e_block_8.gcl_0.edge_mlp.2.weight', 'dynamics.egnn.e_block_8.gcl_0.edge_mlp.2.bias', 'dynamics.egnn.e_block_8.gcl_0.node_mlp.0.weight', 'dynamics.egnn.e_block_8.gcl_0.node_mlp.0.bias', 'dynamics.egnn.e_block_8.gcl_0.node_mlp.2.weight', 'dynamics.egnn.e_block_8.gcl_0.node_mlp.2.bias', 'dynamics.egnn.e_block_8.gcl_0.att_mlp.0.weight', 'dynamics.egnn.e_block_8.gcl_0.att_mlp.0.bias', 'dynamics.egnn.e_block_8.gcl_equiv.coord_mlp.0.weight', 'dynamics.egnn.e_block_8.gcl_equiv.coord_mlp.0.bias', 'dynamics.egnn.e_block_8.gcl_equiv.coord_mlp.2.weight', 'dynamics.egnn.e_block_8.gcl_equiv.coord_mlp.2.bias', 'dynamics.egnn.e_block_8.gcl_equiv.coord_mlp.4.weight'])\n"
     ]
    }
   ],
   "source": [
    "from os.path import join\n",
    "fn = 'generative_model_ema.npy' if args.ema_decay > 0 else 'generative_model.npy'\n",
    "flow_state_dict = torch.load(join(args.model_path, fn), map_location=device)\n",
    "print(flow_state_dict.keys())"
   ]
  },
  {
   "cell_type": "code",
   "execution_count": 11,
   "metadata": {},
   "outputs": [
    {
     "data": {
      "text/plain": [
       "<All keys matched successfully>"
      ]
     },
     "execution_count": 11,
     "metadata": {},
     "output_type": "execute_result"
    }
   ],
   "source": [
    "# Now we apply those weights and biases to the model flow\n",
    "flow.load_state_dict(flow_state_dict)"
   ]
  },
  {
   "attachments": {},
   "cell_type": "markdown",
   "metadata": {},
   "source": [
    "### 5. Sampling"
   ]
  },
  {
   "attachments": {},
   "cell_type": "markdown",
   "metadata": {},
   "source": [
    "#### 5.1 Sampling handful of molecules\n",
    "Different sizes"
   ]
  },
  {
   "cell_type": "code",
   "execution_count": 41,
   "metadata": {},
   "outputs": [],
   "source": [
    "from qm9.sampling import sample\n",
    "\n",
    "n_samples = 30\n",
    "nodesxsample = nodes_dist.sample(n_samples)\n",
    "one_hot, charges, x, node_mask = sample(args, device, flow, dataset_info, nodesxsample=nodesxsample)"
   ]
  },
  {
   "cell_type": "code",
   "execution_count": 48,
   "metadata": {},
   "outputs": [
    {
     "name": "stdout",
     "output_type": "stream",
     "text": [
      "torch.Size([30, 29, 1])\n",
      "torch.Size([30, 29, 3])\n",
      "torch.Size([30, 29, 5])\n",
      "torch.Size([30, 29, 1])\n"
     ]
    }
   ],
   "source": [
    "print(charges.shape)\n",
    "print(x.shape)\n",
    "print(one_hot.shape)\n",
    "print(node_mask.shape)"
   ]
  },
  {
   "cell_type": "code",
   "execution_count": 42,
   "metadata": {},
   "outputs": [],
   "source": [
    "import qm9.visualizer as vis\n",
    "# save .txt files (1 per molecule) containing the coordinates of the atoms and their type \n",
    "vis.save_xyz_file(\n",
    "        join(args.model_path, 'eval/molecules/'), one_hot, charges, x,\n",
    "        id_from=0, name='molecule', dataset_info=dataset_info,\n",
    "        node_mask=node_mask)"
   ]
  },
  {
   "attachments": {},
   "cell_type": "markdown",
   "metadata": {},
   "source": [
    "#### 5.2 Sampling stable molecules"
   ]
  },
  {
   "cell_type": "code",
   "execution_count": 49,
   "metadata": {},
   "outputs": [],
   "source": [
    "n_tries = 20\n",
    "n_samples = 10"
   ]
  },
  {
   "cell_type": "code",
   "execution_count": 50,
   "metadata": {},
   "outputs": [
    {
     "name": "stdout",
     "output_type": "stream",
     "text": [
      "Found stable mol.\n",
      "Found stable mol.\n",
      "Found stable mol.\n",
      "Found stable mol.\n",
      "Found stable mol.\n",
      "Found stable mol.\n",
      "Found stable mol.\n",
      "Found stable mol.\n",
      "Found stable mol.\n",
      "Found stable mol.\n"
     ]
    }
   ],
   "source": [
    "from qm9.analyze import check_stability\n",
    "\n",
    "nodesxsample = nodes_dist.sample(n_tries)\n",
    "one_hot, charges, x, node_mask = sample(args, device, flow, dataset_info, nodesxsample=nodesxsample)\n",
    "counter = 0\n",
    "\n",
    "for i in range(n_tries):\n",
    "    num_atoms = int(node_mask[i:i+1].sum().item())\n",
    "    atom_type = one_hot[i:i+1, :num_atoms].argmax(2).squeeze(0).cpu().detach().numpy()\n",
    "    x_squeeze = x[i:i+1, :num_atoms].squeeze(0).cpu().detach().numpy()\n",
    "    mol_stable = check_stability(x_squeeze, atom_type, dataset_info)[0]\n",
    "\n",
    "    num_remaining_attempts = n_tries - i - 1\n",
    "    num_remaining_samples = n_samples - counter\n",
    "\n",
    "    if mol_stable or num_remaining_attempts <= num_remaining_samples:\n",
    "        if mol_stable:\n",
    "            print('Found stable mol.')\n",
    "        vis.save_xyz_file(\n",
    "            join(args.model_path, 'eval/molecules/'),\n",
    "            one_hot[i:i+1], charges[i:i+1], x[i:i+1],\n",
    "            id_from=counter, name='molecule_stable',\n",
    "            dataset_info=dataset_info,\n",
    "            node_mask=node_mask[i:i+1])\n",
    "        counter += 1\n",
    "\n",
    "        if counter >= n_samples: break"
   ]
  },
  {
   "attachments": {},
   "cell_type": "markdown",
   "metadata": {},
   "source": [
    "### 6. Visualization\n",
    "Uses rdkit to generate .png from .txt files. "
   ]
  },
  {
   "cell_type": "code",
   "execution_count": 51,
   "metadata": {},
   "outputs": [
    {
     "name": "stdout",
     "output_type": "stream",
     "text": [
      "Average distance between atoms 3.2808544635772705\n",
      "Average distance between atoms 2.8001558780670166\n",
      "Average distance between atoms 3.092637062072754\n",
      "Average distance between atoms 2.813894033432007\n",
      "Average distance between atoms 2.7666893005371094\n",
      "Average distance between atoms 3.466494560241699\n",
      "Average distance between atoms 3.187229633331299\n",
      "Average distance between atoms 3.276587724685669\n",
      "Average distance between atoms 3.6992554664611816\n",
      "Average distance between atoms 3.2033517360687256\n",
      "Average distance between atoms 3.9616551399230957\n",
      "Average distance between atoms 3.4325289726257324\n",
      "Average distance between atoms 3.205986499786377\n",
      "Average distance between atoms 3.283141851425171\n",
      "Average distance between atoms 3.0159482955932617\n",
      "Average distance between atoms 3.1348373889923096\n",
      "Average distance between atoms 3.3704986572265625\n",
      "Average distance between atoms 3.2689449787139893\n",
      "Average distance between atoms 3.0262720584869385\n",
      "Average distance between atoms 3.088954210281372\n",
      "Average distance between atoms 3.0497629642486572\n",
      "Average distance between atoms 3.310793161392212\n",
      "Average distance between atoms 3.218860387802124\n",
      "Average distance between atoms 4.247001647949219\n",
      "Average distance between atoms 3.1091866493225098\n",
      "Average distance between atoms 3.0122830867767334\n",
      "Average distance between atoms 3.3574934005737305\n",
      "Average distance between atoms 3.483349084854126\n",
      "Average distance between atoms 3.210636854171753\n",
      "Average distance between atoms 3.14688777923584\n",
      "Average distance between atoms 3.2151007652282715\n",
      "Average distance between atoms 3.19596004486084\n",
      "Average distance between atoms 3.0292422771453857\n",
      "Average distance between atoms 3.0525267124176025\n",
      "Average distance between atoms 3.643252372741699\n",
      "Average distance between atoms 3.1270840167999268\n",
      "Average distance between atoms 3.4118895530700684\n",
      "Average distance between atoms 3.5232303142547607\n",
      "Average distance between atoms 3.4257936477661133\n",
      "Average distance between atoms 2.969371795654297\n"
     ]
    }
   ],
   "source": [
    "vis.visualize(join(args.model_path, 'eval/molecules/'), dataset_info, max_num=100, spheres_3d=True)"
   ]
  },
  {
   "attachments": {},
   "cell_type": "markdown",
   "metadata": {},
   "source": [
    "## 2. Sampling visualization chain"
   ]
  },
  {
   "cell_type": "code",
   "execution_count": 13,
   "metadata": {},
   "outputs": [
    {
     "name": "stdout",
     "output_type": "stream",
     "text": [
      "Found stable molecule to visualize :)\n",
      "Creating gif with 108 images\n",
      "Found stable molecule to visualize :)\n",
      "Creating gif with 108 images\n",
      "Found stable molecule to visualize :)\n",
      "Creating gif with 108 images\n",
      "Found stable molecule to visualize :)\n",
      "Creating gif with 108 images\n",
      "Found stable molecule to visualize :)\n",
      "Creating gif with 108 images\n",
      "Found stable molecule to visualize :)\n",
      "Creating gif with 108 images\n",
      "Found stable molecule to visualize :)\n",
      "Creating gif with 108 images\n",
      "Found stable molecule to visualize :)\n",
      "Creating gif with 108 images\n",
      "Found stable molecule to visualize :)\n",
      "Creating gif with 108 images\n",
      "Found stable molecule to visualize :)\n",
      "Creating gif with 108 images\n",
      "Found stable molecule to visualize :)\n",
      "Creating gif with 108 images\n",
      "Found stable molecule to visualize :)\n"
     ]
    },
    {
     "ename": "KeyboardInterrupt",
     "evalue": "",
     "output_type": "error",
     "traceback": [
      "\u001b[0;31m---------------------------------------------------------------------------\u001b[0m",
      "\u001b[0;31mKeyboardInterrupt\u001b[0m                         Traceback (most recent call last)",
      "Cell \u001b[0;32mIn[13], line 14\u001b[0m\n\u001b[1;32m     12\u001b[0m vis\u001b[39m.\u001b[39msave_xyz_file(join(args\u001b[39m.\u001b[39mmodel_path, target_path), one_hot, charges, x, dataset_info, id_from, name\u001b[39m=\u001b[39m\u001b[39m'\u001b[39m\u001b[39mchain\u001b[39m\u001b[39m'\u001b[39m)\n\u001b[1;32m     13\u001b[0m \u001b[39m# visualize generated chains\u001b[39;00m\n\u001b[0;32m---> 14\u001b[0m vis\u001b[39m.\u001b[39;49mvisualize_chain_uncertainty(join(args\u001b[39m.\u001b[39;49mmodel_path, target_path), dataset_info, spheres_3d\u001b[39m=\u001b[39;49m\u001b[39mTrue\u001b[39;49;00m)\n",
      "File \u001b[0;32m~/Documents/Projects/DeepMolGen/e3_diffusion_for_molecules/qm9/visualizer.py:379\u001b[0m, in \u001b[0;36mvisualize_chain_uncertainty\u001b[0;34m(path, dataset_info, wandb, spheres_3d, mode)\u001b[0m\n\u001b[1;32m    377\u001b[0m     all_atom_type \u001b[39m=\u001b[39m torch\u001b[39m.\u001b[39margmax(one_hot, dim\u001b[39m=\u001b[39m\u001b[39m2\u001b[39m)\u001b[39m.\u001b[39mnumpy()\n\u001b[1;32m    378\u001b[0m     fn \u001b[39m=\u001b[39m file[:\u001b[39m-\u001b[39m\u001b[39m4\u001b[39m] \u001b[39m+\u001b[39m \u001b[39m'\u001b[39m\u001b[39m.png\u001b[39m\u001b[39m'\u001b[39m\n\u001b[0;32m--> 379\u001b[0m     plot_data3d_uncertainty(\n\u001b[1;32m    380\u001b[0m         all_positions, all_atom_type, dataset_info\u001b[39m=\u001b[39;49mdataset_info,\n\u001b[1;32m    381\u001b[0m         save_path\u001b[39m=\u001b[39;49mfn, spheres_3d\u001b[39m=\u001b[39;49mspheres_3d, alpha\u001b[39m=\u001b[39;49m\u001b[39m0.5\u001b[39;49m)\n\u001b[1;32m    382\u001b[0m     save_paths\u001b[39m.\u001b[39mappend(fn)\n\u001b[1;32m    384\u001b[0m imgs \u001b[39m=\u001b[39m [imageio\u001b[39m.\u001b[39mimread(fn) \u001b[39mfor\u001b[39;00m fn \u001b[39min\u001b[39;00m save_paths]\n",
      "File \u001b[0;32m~/Documents/Projects/DeepMolGen/e3_diffusion_for_molecules/qm9/visualizer.py:248\u001b[0m, in \u001b[0;36mplot_data3d_uncertainty\u001b[0;34m(all_positions, all_atom_types, dataset_info, camera_elev, camera_azim, save_path, spheres_3d, bg, alpha)\u001b[0m\n\u001b[1;32m    246\u001b[0m     positions \u001b[39m=\u001b[39m all_positions[i]\n\u001b[1;32m    247\u001b[0m     atom_type \u001b[39m=\u001b[39m all_atom_types[i]\n\u001b[0;32m--> 248\u001b[0m     plot_molecule(ax, positions, atom_type, alpha, spheres_3d,\n\u001b[1;32m    249\u001b[0m                   hex_bg_color, dataset_info)\n\u001b[1;32m    251\u001b[0m \u001b[39mif\u001b[39;00m \u001b[39m'\u001b[39m\u001b[39mqm9\u001b[39m\u001b[39m'\u001b[39m \u001b[39min\u001b[39;00m dataset_info[\u001b[39m'\u001b[39m\u001b[39mname\u001b[39m\u001b[39m'\u001b[39m]:\n\u001b[1;32m    252\u001b[0m     max_value \u001b[39m=\u001b[39m all_positions[\u001b[39m0\u001b[39m]\u001b[39m.\u001b[39mabs()\u001b[39m.\u001b[39mmax()\u001b[39m.\u001b[39mitem()\n",
      "File \u001b[0;32m~/Documents/Projects/DeepMolGen/e3_diffusion_for_molecules/qm9/visualizer.py:151\u001b[0m, in \u001b[0;36mplot_molecule\u001b[0;34m(ax, positions, atom_type, alpha, spheres_3d, hex_bg_color, dataset_info)\u001b[0m\n\u001b[1;32m    147\u001b[0m \u001b[39melse\u001b[39;00m:\n\u001b[1;32m    148\u001b[0m     \u001b[39m# linewidth_factor = draw_edge_int  # Prop to number of\u001b[39;00m\n\u001b[1;32m    149\u001b[0m     \u001b[39m# edges.\u001b[39;00m\n\u001b[1;32m    150\u001b[0m     linewidth_factor \u001b[39m=\u001b[39m \u001b[39m1\u001b[39m\n\u001b[0;32m--> 151\u001b[0m ax\u001b[39m.\u001b[39;49mplot([x[i], x[j]], [y[i], y[j]], [z[i], z[j]],\n\u001b[1;32m    152\u001b[0m         linewidth\u001b[39m=\u001b[39;49mline_width \u001b[39m*\u001b[39;49m linewidth_factor,\n\u001b[1;32m    153\u001b[0m         c\u001b[39m=\u001b[39;49mhex_bg_color, alpha\u001b[39m=\u001b[39;49malpha)\n",
      "File \u001b[0;32m/opt/homebrew/Caskroom/miniforge/base/envs/my-rdkit-env/lib/python3.11/site-packages/mpl_toolkits/mplot3d/axes3d.py:1487\u001b[0m, in \u001b[0;36mAxes3D.plot\u001b[0;34m(self, xs, ys, zdir, *args, **kwargs)\u001b[0m\n\u001b[1;32m   1484\u001b[0m \u001b[39m# Match length\u001b[39;00m\n\u001b[1;32m   1485\u001b[0m zs \u001b[39m=\u001b[39m np\u001b[39m.\u001b[39mbroadcast_to(zs, np\u001b[39m.\u001b[39mshape(xs))\n\u001b[0;32m-> 1487\u001b[0m lines \u001b[39m=\u001b[39m \u001b[39msuper\u001b[39;49m()\u001b[39m.\u001b[39;49mplot(xs, ys, \u001b[39m*\u001b[39;49margs, \u001b[39m*\u001b[39;49m\u001b[39m*\u001b[39;49mkwargs)\n\u001b[1;32m   1488\u001b[0m \u001b[39mfor\u001b[39;00m line \u001b[39min\u001b[39;00m lines:\n\u001b[1;32m   1489\u001b[0m     art3d\u001b[39m.\u001b[39mline_2d_to_3d(line, zs\u001b[39m=\u001b[39mzs, zdir\u001b[39m=\u001b[39mzdir)\n",
      "File \u001b[0;32m/opt/homebrew/Caskroom/miniforge/base/envs/my-rdkit-env/lib/python3.11/site-packages/matplotlib/axes/_axes.py:1688\u001b[0m, in \u001b[0;36mAxes.plot\u001b[0;34m(self, scalex, scaley, data, *args, **kwargs)\u001b[0m\n\u001b[1;32m   1445\u001b[0m \u001b[39m\u001b[39m\u001b[39m\"\"\"\u001b[39;00m\n\u001b[1;32m   1446\u001b[0m \u001b[39mPlot y versus x as lines and/or markers.\u001b[39;00m\n\u001b[1;32m   1447\u001b[0m \n\u001b[0;32m   (...)\u001b[0m\n\u001b[1;32m   1685\u001b[0m \u001b[39m(``'green'``) or hex strings (``'#008000'``).\u001b[39;00m\n\u001b[1;32m   1686\u001b[0m \u001b[39m\"\"\"\u001b[39;00m\n\u001b[1;32m   1687\u001b[0m kwargs \u001b[39m=\u001b[39m cbook\u001b[39m.\u001b[39mnormalize_kwargs(kwargs, mlines\u001b[39m.\u001b[39mLine2D)\n\u001b[0;32m-> 1688\u001b[0m lines \u001b[39m=\u001b[39m [\u001b[39m*\u001b[39m\u001b[39mself\u001b[39m\u001b[39m.\u001b[39m_get_lines(\u001b[39m*\u001b[39margs, data\u001b[39m=\u001b[39mdata, \u001b[39m*\u001b[39m\u001b[39m*\u001b[39mkwargs)]\n\u001b[1;32m   1689\u001b[0m \u001b[39mfor\u001b[39;00m line \u001b[39min\u001b[39;00m lines:\n\u001b[1;32m   1690\u001b[0m     \u001b[39mself\u001b[39m\u001b[39m.\u001b[39madd_line(line)\n",
      "File \u001b[0;32m/opt/homebrew/Caskroom/miniforge/base/envs/my-rdkit-env/lib/python3.11/site-packages/matplotlib/axes/_base.py:311\u001b[0m, in \u001b[0;36m_process_plot_var_args.__call__\u001b[0;34m(self, data, *args, **kwargs)\u001b[0m\n\u001b[1;32m    309\u001b[0m     this \u001b[39m+\u001b[39m\u001b[39m=\u001b[39m args[\u001b[39m0\u001b[39m],\n\u001b[1;32m    310\u001b[0m     args \u001b[39m=\u001b[39m args[\u001b[39m1\u001b[39m:]\n\u001b[0;32m--> 311\u001b[0m \u001b[39myield from\u001b[39;00m \u001b[39mself\u001b[39;49m\u001b[39m.\u001b[39;49m_plot_args(\n\u001b[1;32m    312\u001b[0m     this, kwargs, ambiguous_fmt_datakey\u001b[39m=\u001b[39;49mambiguous_fmt_datakey)\n",
      "File \u001b[0;32m/opt/homebrew/Caskroom/miniforge/base/envs/my-rdkit-env/lib/python3.11/site-packages/matplotlib/axes/_base.py:494\u001b[0m, in \u001b[0;36m_process_plot_var_args._plot_args\u001b[0;34m(self, tup, kwargs, return_kwargs, ambiguous_fmt_datakey)\u001b[0m\n\u001b[1;32m    492\u001b[0m \u001b[39mif\u001b[39;00m \u001b[39mlen\u001b[39m(xy) \u001b[39m==\u001b[39m \u001b[39m2\u001b[39m:\n\u001b[1;32m    493\u001b[0m     x \u001b[39m=\u001b[39m _check_1d(xy[\u001b[39m0\u001b[39m])\n\u001b[0;32m--> 494\u001b[0m     y \u001b[39m=\u001b[39m _check_1d(xy[\u001b[39m1\u001b[39;49m])\n\u001b[1;32m    495\u001b[0m \u001b[39melse\u001b[39;00m:\n\u001b[1;32m    496\u001b[0m     x, y \u001b[39m=\u001b[39m index_of(xy[\u001b[39m-\u001b[39m\u001b[39m1\u001b[39m])\n",
      "File \u001b[0;32m/opt/homebrew/Caskroom/miniforge/base/envs/my-rdkit-env/lib/python3.11/site-packages/matplotlib/cbook/__init__.py:1348\u001b[0m, in \u001b[0;36m_check_1d\u001b[0;34m(x)\u001b[0m\n\u001b[1;32m   1342\u001b[0m \u001b[39m# plot requires `shape` and `ndim`.  If passed an\u001b[39;00m\n\u001b[1;32m   1343\u001b[0m \u001b[39m# object that doesn't provide them, then force to numpy array.\u001b[39;00m\n\u001b[1;32m   1344\u001b[0m \u001b[39m# Note this will strip unit information.\u001b[39;00m\n\u001b[1;32m   1345\u001b[0m \u001b[39mif\u001b[39;00m (\u001b[39mnot\u001b[39;00m \u001b[39mhasattr\u001b[39m(x, \u001b[39m'\u001b[39m\u001b[39mshape\u001b[39m\u001b[39m'\u001b[39m) \u001b[39mor\u001b[39;00m\n\u001b[1;32m   1346\u001b[0m         \u001b[39mnot\u001b[39;00m \u001b[39mhasattr\u001b[39m(x, \u001b[39m'\u001b[39m\u001b[39mndim\u001b[39m\u001b[39m'\u001b[39m) \u001b[39mor\u001b[39;00m\n\u001b[1;32m   1347\u001b[0m         \u001b[39mlen\u001b[39m(x\u001b[39m.\u001b[39mshape) \u001b[39m<\u001b[39m \u001b[39m1\u001b[39m):\n\u001b[0;32m-> 1348\u001b[0m     \u001b[39mreturn\u001b[39;00m np\u001b[39m.\u001b[39;49matleast_1d(x)\n\u001b[1;32m   1349\u001b[0m \u001b[39melse\u001b[39;00m:\n\u001b[1;32m   1350\u001b[0m     \u001b[39mreturn\u001b[39;00m x\n",
      "File \u001b[0;32m<__array_function__ internals>:200\u001b[0m, in \u001b[0;36matleast_1d\u001b[0;34m(*args, **kwargs)\u001b[0m\n",
      "File \u001b[0;32m/opt/homebrew/Caskroom/miniforge/base/envs/my-rdkit-env/lib/python3.11/site-packages/numpy/core/shape_base.py:65\u001b[0m, in \u001b[0;36matleast_1d\u001b[0;34m(*arys)\u001b[0m\n\u001b[1;32m     63\u001b[0m res \u001b[39m=\u001b[39m []\n\u001b[1;32m     64\u001b[0m \u001b[39mfor\u001b[39;00m ary \u001b[39min\u001b[39;00m arys:\n\u001b[0;32m---> 65\u001b[0m     ary \u001b[39m=\u001b[39m asanyarray(ary)\n\u001b[1;32m     66\u001b[0m     \u001b[39mif\u001b[39;00m ary\u001b[39m.\u001b[39mndim \u001b[39m==\u001b[39m \u001b[39m0\u001b[39m:\n\u001b[1;32m     67\u001b[0m         result \u001b[39m=\u001b[39m ary\u001b[39m.\u001b[39mreshape(\u001b[39m1\u001b[39m)\n",
      "File \u001b[0;32m/opt/homebrew/Caskroom/miniforge/base/envs/my-rdkit-env/lib/python3.11/site-packages/torch/_tensor.py:970\u001b[0m, in \u001b[0;36mTensor.__array__\u001b[0;34m(self, dtype)\u001b[0m\n\u001b[1;32m    968\u001b[0m     \u001b[39mreturn\u001b[39;00m handle_torch_function(Tensor\u001b[39m.\u001b[39m__array__, (\u001b[39mself\u001b[39m,), \u001b[39mself\u001b[39m, dtype\u001b[39m=\u001b[39mdtype)\n\u001b[1;32m    969\u001b[0m \u001b[39mif\u001b[39;00m dtype \u001b[39mis\u001b[39;00m \u001b[39mNone\u001b[39;00m:\n\u001b[0;32m--> 970\u001b[0m     \u001b[39mreturn\u001b[39;00m \u001b[39mself\u001b[39;49m\u001b[39m.\u001b[39;49mnumpy()\n\u001b[1;32m    971\u001b[0m \u001b[39melse\u001b[39;00m:\n\u001b[1;32m    972\u001b[0m     \u001b[39mreturn\u001b[39;00m \u001b[39mself\u001b[39m\u001b[39m.\u001b[39mnumpy()\u001b[39m.\u001b[39mastype(dtype, copy\u001b[39m=\u001b[39m\u001b[39mFalse\u001b[39;00m)\n",
      "\u001b[0;31mKeyboardInterrupt\u001b[0m: "
     ]
    }
   ],
   "source": [
    "from qm9.sampling import sample_chain\n",
    "import qm9.visualizer as vis\n",
    "\n",
    "num_chains=100\n",
    "id_from=0\n",
    "\n",
    "for i in range(num_chains):\n",
    "    target_path = f'eval/chain_{i}/'\n",
    "    # sample\n",
    "    one_hot, charges, x = sample_chain(args, device, flow, args.n_tries, dataset_info)\n",
    "    # save molecules to .txt file\n",
    "    vis.save_xyz_file(join(args.model_path, target_path), one_hot, charges, x, dataset_info, id_from, name='chain')\n",
    "    # visualize generated chains\n",
    "    vis.visualize_chain_uncertainty(join(args.model_path, target_path), dataset_info, spheres_3d=True)"
   ]
  }
 ],
 "metadata": {
  "kernelspec": {
   "display_name": "my-rdkit-env",
   "language": "python",
   "name": "python3"
  },
  "language_info": {
   "codemirror_mode": {
    "name": "ipython",
    "version": 3
   },
   "file_extension": ".py",
   "mimetype": "text/x-python",
   "name": "python",
   "nbconvert_exporter": "python",
   "pygments_lexer": "ipython3",
   "version": "3.11.3"
  },
  "orig_nbformat": 4
 },
 "nbformat": 4,
 "nbformat_minor": 2
}
